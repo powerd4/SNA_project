{
 "cells": [
  {
   "cell_type": "code",
   "execution_count": 306,
   "metadata": {},
   "outputs": [],
   "source": [
    "import networkx as nx\n",
    "from community import community_louvain as cm\n",
    "import pandas as pd\n",
    "import seaborn as sns\n",
    "import matplotlib.pyplot as plt\n",
    "from pyvis.network import Network"
   ]
  },
  {
   "cell_type": "code",
   "execution_count": 307,
   "metadata": {},
   "outputs": [],
   "source": [
    "p1 = pd.read_csv(\"../data/raw/PIRA Gill CSV/CSV/60_PERIOD1_NET.csv\", index_col=0)\n",
    "p2 = pd.read_csv(\"../data/raw/PIRA Gill CSV/CSV/60_PERIOD2_NET.csv\", index_col=0)\n",
    "p3 = pd.read_csv(\"../data/raw/PIRA Gill CSV/CSV/60_PERIOD3_NET.csv\", index_col=0)\n",
    "p4_5 = pd.read_csv(\"../data/raw/PIRA Gill CSV/CSV/60_PERIOD4_5_NET.csv\", index_col=0)\n",
    "p6 = pd.read_csv(\"../data/raw/PIRA Gill CSV/CSV/60_PERIOD6_NET.csv\", index_col=0)\n",
    "\n",
    "G1 = nx.from_pandas_adjacency(p1)\n",
    "G2 = nx.from_pandas_adjacency(p2)\n",
    "G3 = nx.from_pandas_adjacency(p3)\n",
    "G4_5 = nx.from_pandas_adjacency(p4_5)\n",
    "G6 = nx.from_pandas_adjacency(p6)\n",
    "\n",
    "G = [G1, G2, G3, G4_5, G6]"
   ]
  },
  {
   "cell_type": "code",
   "execution_count": 308,
   "metadata": {},
   "outputs": [],
   "source": [
    "# giant components\n",
    "G1_giant = G1.subgraph(sorted(nx.connected_components(G1), key=len, reverse=True)[0])\n",
    "G2_giant = G2.subgraph(sorted(nx.connected_components(G2), key=len, reverse=True)[0])\n",
    "G3_giant = G3.subgraph(sorted(nx.connected_components(G3), key=len, reverse=True)[0])\n",
    "G4_5_giant = G4_5.subgraph(sorted(nx.connected_components(G4_5), key=len, reverse=True)[0])\n",
    "G6_giant = G6.subgraph(sorted(nx.connected_components(G6), key=len, reverse=True)[0])\n",
    "\n",
    "G_giant = [G1_giant, G2_giant, G3_giant, G4_5_giant, G6_giant]"
   ]
  },
  {
   "cell_type": "code",
   "execution_count": 309,
   "metadata": {},
   "outputs": [
    {
     "name": "stdout",
     "output_type": "stream",
     "text": [
      "Period 1: Name: \n",
      "Type: Graph\n",
      "Number of nodes: 334\n",
      "Number of edges: 405\n",
      "Average degree:   2.4251\n",
      "Period 2: Name: \n",
      "Type: Graph\n",
      "Number of nodes: 260\n",
      "Number of edges: 340\n",
      "Average degree:   2.6154\n",
      "Period 3: Name: \n",
      "Type: Graph\n",
      "Number of nodes: 526\n",
      "Number of edges: 1025\n",
      "Average degree:   3.8973\n",
      "Period 4_5: Name: \n",
      "Type: Graph\n",
      "Number of nodes: 367\n",
      "Number of edges: 514\n",
      "Average degree:   2.8011\n",
      "Period 6: Name: \n",
      "Type: Graph\n",
      "Number of nodes: 83\n",
      "Number of edges: 92\n",
      "Average degree:   2.2169\n"
     ]
    }
   ],
   "source": [
    "print('Period 1: ' + nx.info(G1))\n",
    "print('Period 2: ' + nx.info(G2))\n",
    "print('Period 3: ' + nx.info(G3))\n",
    "print('Period 4_5: ' + nx.info(G4_5))\n",
    "print('Period 6: ' + nx.info(G6))"
   ]
  },
  {
   "cell_type": "code",
   "execution_count": 310,
   "metadata": {},
   "outputs": [],
   "source": [
    "# pyvis\n",
    "# nt = Network(\"500px\", \"500px\")\n",
    "# populates the nodes and edges data structures\n",
    "# nt.from_nx(G1)\n",
    "# nt.show(\"nx.html\")"
   ]
  },
  {
   "cell_type": "code",
   "execution_count": 311,
   "metadata": {},
   "outputs": [],
   "source": [
    "df = pd.DataFrame(['G1', 'G2', 'G3', 'G4_5', 'G6'], columns=['graph'])"
   ]
  },
  {
   "cell_type": "markdown",
   "metadata": {},
   "source": [
    "# Number of nodes"
   ]
  },
  {
   "cell_type": "code",
   "execution_count": 312,
   "metadata": {},
   "outputs": [
    {
     "data": {
      "text/plain": [
       "<AxesSubplot:xlabel='graph', ylabel='number_of_nodes'>"
      ]
     },
     "execution_count": 312,
     "metadata": {},
     "output_type": "execute_result"
    },
    {
     "data": {
      "image/png": "[encoded data removed]",
      "text/plain": [
       "<Figure size 432x288 with 1 Axes>"
      ]
     },
     "metadata": {
      "needs_background": "light"
     },
     "output_type": "display_data"
    }
   ],
   "source": [
    "number_of_nodes = []\n",
    "for i in G:\n",
    "    number_of_nodes.append(nx.number_of_nodes(i))\n",
    "\n",
    "df['number_of_nodes'] = number_of_nodes\n",
    "sns.barplot(data = df, x = 'graph', y = 'number_of_nodes')"
   ]
  },
  {
   "cell_type": "markdown",
   "metadata": {},
   "source": [
    "# Number of edges"
   ]
  },
  {
   "cell_type": "code",
   "execution_count": 313,
   "metadata": {},
   "outputs": [
    {
     "data": {
      "text/plain": [
       "<AxesSubplot:xlabel='graph', ylabel='number_of_edges'>"
      ]
     },
     "execution_count": 313,
     "metadata": {},
     "output_type": "execute_result"
    },
    {
     "data": {
      "image/png": "[encoded data removed]",
      "text/plain": [
       "<Figure size 432x288 with 1 Axes>"
      ]
     },
     "metadata": {
      "needs_background": "light"
     },
     "output_type": "display_data"
    }
   ],
   "source": [
    "number_of_edges = []\n",
    "for i in G:\n",
    "    number_of_edges.append(nx.number_of_edges(i))\n",
    "\n",
    "df['number_of_edges'] = number_of_edges\n",
    "sns.barplot(data = df, x = 'graph', y = 'number_of_edges')"
   ]
  },
  {
   "cell_type": "markdown",
   "metadata": {},
   "source": [
    "# Clustering coefficient"
   ]
  },
  {
   "cell_type": "code",
   "execution_count": 314,
   "metadata": {},
   "outputs": [
    {
     "data": {
      "text/plain": [
       "<AxesSubplot:xlabel='graph', ylabel='average_clustering'>"
      ]
     },
     "execution_count": 314,
     "metadata": {},
     "output_type": "execute_result"
    },
    {
     "data": {
      "image/png": "[encoded data removed]",
      "text/plain": [
       "<Figure size 432x288 with 1 Axes>"
      ]
     },
     "metadata": {
      "needs_background": "light"
     },
     "output_type": "display_data"
    }
   ],
   "source": [
    "average_clustering = []\n",
    "for i in G:\n",
    "    average_clustering.append(nx.average_clustering(i))\n",
    "\n",
    "df['average_clustering'] = average_clustering\n",
    "sns.barplot(data = df, x = 'graph', y = 'average_clustering')"
   ]
  },
  {
   "cell_type": "markdown",
   "metadata": {},
   "source": [
    "# Average shortest path"
   ]
  },
  {
   "cell_type": "code",
   "execution_count": 315,
   "metadata": {},
   "outputs": [
    {
     "data": {
      "text/plain": [
       "<AxesSubplot:xlabel='graph', ylabel='average_shortest_path_length'>"
      ]
     },
     "execution_count": 315,
     "metadata": {},
     "output_type": "execute_result"
    },
    {
     "data": {
      "image/png": "[encoded data removed]",
      "text/plain": [
       "<Figure size 432x288 with 1 Axes>"
      ]
     },
     "metadata": {
      "needs_background": "light"
     },
     "output_type": "display_data"
    }
   ],
   "source": [
    "average_shortest_path_length = []\n",
    "for i in G_giant:\n",
    "    average_shortest_path_length.append(nx.average_shortest_path_length(i))\n",
    "\n",
    "df['average_shortest_path_length'] = average_shortest_path_length\n",
    "sns.barplot(data = df, x = 'graph', y = 'average_shortest_path_length')"
   ]
  },
  {
   "cell_type": "markdown",
   "metadata": {},
   "source": [
    "# Modularity"
   ]
  },
  {
   "cell_type": "code",
   "execution_count": 316,
   "metadata": {},
   "outputs": [
    {
     "data": {
      "text/plain": [
       "<AxesSubplot:xlabel='graph', ylabel='modularity'>"
      ]
     },
     "execution_count": 316,
     "metadata": {},
     "output_type": "execute_result"
    },
    {
     "data": {
      "image/png": "[encoded data removed]",
      "text/plain": [
       "<Figure size 432x288 with 1 Axes>"
      ]
     },
     "metadata": {
      "needs_background": "light"
     },
     "output_type": "display_data"
    }
   ],
   "source": [
    "best_partition = []\n",
    "modularity = []\n",
    "for i in G:\n",
    "    part = cm.best_partition(i)\n",
    "    best_partition.append(part)\n",
    "    mod = cm.modularity(part,i)\n",
    "    modularity.append(mod)\n",
    "    \n",
    "df['best_partition'] = best_partition\n",
    "df['modularity'] = modularity\n",
    "sns.barplot(data = df, x = 'graph', y = 'modularity')"
   ]
  },
  {
   "cell_type": "markdown",
   "metadata": {},
   "source": [
    "# Density"
   ]
  },
  {
   "cell_type": "code",
   "execution_count": 317,
   "metadata": {},
   "outputs": [
    {
     "data": {
      "text/plain": [
       "<AxesSubplot:xlabel='graph', ylabel='density'>"
      ]
     },
     "execution_count": 317,
     "metadata": {},
     "output_type": "execute_result"
    },
    {
     "data": {
      "image/png": "[encoded data removed]",
      "text/plain": [
       "<Figure size 432x288 with 1 Axes>"
      ]
     },
     "metadata": {
      "needs_background": "light"
     },
     "output_type": "display_data"
    }
   ],
   "source": [
    "density = []\n",
    "for i in G:\n",
    "    density.append(nx.density(i))\n",
    "\n",
    "df['density'] = density\n",
    "sns.barplot(data = df, x = 'graph', y = 'density')"
   ]
  },
  {
   "cell_type": "markdown",
   "metadata": {},
   "source": [
    "# Diameter"
   ]
  },
  {
   "cell_type": "code",
   "execution_count": 318,
   "metadata": {},
   "outputs": [
    {
     "data": {
      "text/plain": [
       "<AxesSubplot:xlabel='graph', ylabel='diameter'>"
      ]
     },
     "execution_count": 318,
     "metadata": {},
     "output_type": "execute_result"
    },
    {
     "data": {
      "image/png": "[encoded data removed]",
      "text/plain": [
       "<Figure size 432x288 with 1 Axes>"
      ]
     },
     "metadata": {
      "needs_background": "light"
     },
     "output_type": "display_data"
    }
   ],
   "source": [
    "diameter = []\n",
    "for i in G_giant:\n",
    "    diameter.append(nx.diameter(i))\n",
    "\n",
    "df['diameter'] = diameter\n",
    "sns.barplot(data = df, x = 'graph', y = 'diameter')"
   ]
  },
  {
   "cell_type": "markdown",
   "metadata": {},
   "source": [
    "# Efficiency"
   ]
  },
  {
   "cell_type": "markdown",
   "metadata": {},
   "source": [
    "### The efficiency of a pair of nodes in a graph is the multiplicative inverse of the shortest path distance between the nodes. The average global efficiency of a graph is the average efficiency of all pairs of nodes. "
   ]
  },
  {
   "cell_type": "code",
   "execution_count": 319,
   "metadata": {},
   "outputs": [
    {
     "data": {
      "text/plain": [
       "<AxesSubplot:xlabel='graph', ylabel='global_efficiency'>"
      ]
     },
     "execution_count": 319,
     "metadata": {},
     "output_type": "execute_result"
    },
    {
     "data": {
      "image/png": "[encoded data removed]",
      "text/plain": [
       "<Figure size 432x288 with 1 Axes>"
      ]
     },
     "metadata": {
      "needs_background": "light"
     },
     "output_type": "display_data"
    }
   ],
   "source": [
    "global_efficiency = []\n",
    "for i in G:\n",
    "    global_efficiency.append(nx.global_efficiency(i))\n",
    "\n",
    "df['global_efficiency'] = global_efficiency\n",
    "sns.barplot(data = df, x = 'graph', y = 'global_efficiency')"
   ]
  },
  {
   "cell_type": "markdown",
   "metadata": {},
   "source": [
    "# Average degree"
   ]
  },
  {
   "cell_type": "code",
   "execution_count": 320,
   "metadata": {},
   "outputs": [
    {
     "data": {
      "text/plain": [
       "<AxesSubplot:xlabel='graph', ylabel='average_degree'>"
      ]
     },
     "execution_count": 320,
     "metadata": {},
     "output_type": "execute_result"
    },
    {
     "data": {
      "image/png": "[encoded data removed]",
      "text/plain": [
       "<Figure size 432x288 with 1 Axes>"
      ]
     },
     "metadata": {
      "needs_background": "light"
     },
     "output_type": "display_data"
    }
   ],
   "source": [
    "average_degree = []\n",
    "for i in G:\n",
    "    average_degree.append(sum([d for (n, d) in nx.degree(i)]) / float(i.number_of_nodes()))\n",
    "\n",
    "df['average_degree'] = average_degree\n",
    "sns.barplot(data = df, x = 'graph', y = 'average_degree')"
   ]
  },
  {
   "cell_type": "markdown",
   "metadata": {},
   "source": [
    "# Degree Assortativity"
   ]
  },
  {
   "cell_type": "code",
   "execution_count": 321,
   "metadata": {},
   "outputs": [
    {
     "data": {
      "text/plain": [
       "<AxesSubplot:xlabel='graph', ylabel='degree_assortativity_coefficient'>"
      ]
     },
     "execution_count": 321,
     "metadata": {},
     "output_type": "execute_result"
    },
    {
     "data": {
      "image/png": "[encoded data removed]",
      "text/plain": [
       "<Figure size 432x288 with 1 Axes>"
      ]
     },
     "metadata": {
      "needs_background": "light"
     },
     "output_type": "display_data"
    }
   ],
   "source": [
    "degree_assortativity_coefficient = []\n",
    "for i in G:\n",
    "    degree_assortativity_coefficient.append(nx.degree_assortativity_coefficient(i))\n",
    "\n",
    "df['degree_assortativity_coefficient'] = degree_assortativity_coefficient\n",
    "sns.barplot(data = df, x = 'graph', y = 'degree_assortativity_coefficient')"
   ]
  },
  {
   "cell_type": "markdown",
   "metadata": {},
   "source": [
    "# Rich Club Coefficient\n",
    "## Not sure what's going on here..."
   ]
  },
  {
   "cell_type": "code",
   "execution_count": 324,
   "metadata": {},
   "outputs": [
    {
     "ename": "ZeroDivisionError",
     "evalue": "float division by zero",
     "output_type": "error",
     "traceback": [
      "\u001b[1;31m---------------------------------------------------------------------------\u001b[0m",
      "\u001b[1;31mZeroDivisionError\u001b[0m                         Traceback (most recent call last)",
      "\u001b[1;32m<ipython-input-324-68accf60b606>\u001b[0m in \u001b[0;36m<module>\u001b[1;34m\u001b[0m\n\u001b[0;32m      1\u001b[0m \u001b[0mrich_club_coefficient\u001b[0m \u001b[1;33m=\u001b[0m \u001b[1;33m[\u001b[0m\u001b[1;33m]\u001b[0m\u001b[1;33m\u001b[0m\u001b[1;33m\u001b[0m\u001b[0m\n\u001b[0;32m      2\u001b[0m \u001b[1;32mfor\u001b[0m \u001b[0mi\u001b[0m \u001b[1;32min\u001b[0m \u001b[0mG_giant\u001b[0m\u001b[1;33m:\u001b[0m\u001b[1;33m\u001b[0m\u001b[1;33m\u001b[0m\u001b[0m\n\u001b[1;32m----> 3\u001b[1;33m     \u001b[0mrich_club_coefficient\u001b[0m\u001b[1;33m.\u001b[0m\u001b[0mappend\u001b[0m\u001b[1;33m(\u001b[0m\u001b[0mnx\u001b[0m\u001b[1;33m.\u001b[0m\u001b[0mrich_club_coefficient\u001b[0m\u001b[1;33m(\u001b[0m\u001b[0mi\u001b[0m\u001b[1;33m)\u001b[0m\u001b[1;33m)\u001b[0m\u001b[1;33m\u001b[0m\u001b[1;33m\u001b[0m\u001b[0m\n\u001b[0m\u001b[0;32m      4\u001b[0m \u001b[1;33m\u001b[0m\u001b[0m\n\u001b[0;32m      5\u001b[0m \u001b[0mdf\u001b[0m\u001b[1;33m[\u001b[0m\u001b[1;34m'rich_club_coefficient'\u001b[0m\u001b[1;33m]\u001b[0m \u001b[1;33m=\u001b[0m \u001b[0mrich_club_coefficient\u001b[0m\u001b[1;33m\u001b[0m\u001b[1;33m\u001b[0m\u001b[0m\n",
      "\u001b[1;32m<decorator-gen-507>\u001b[0m in \u001b[0;36mrich_club_coefficient\u001b[1;34m(G, normalized, Q, seed)\u001b[0m\n",
      "\u001b[1;32m~\\Anaconda3\\lib\\site-packages\\networkx\\utils\\decorators.py\u001b[0m in \u001b[0;36m_not_implemented_for\u001b[1;34m(not_implement_for_func, *args, **kwargs)\u001b[0m\n\u001b[0;32m     76\u001b[0m             \u001b[1;32mraise\u001b[0m \u001b[0mnx\u001b[0m\u001b[1;33m.\u001b[0m\u001b[0mNetworkXNotImplemented\u001b[0m\u001b[1;33m(\u001b[0m\u001b[0mmsg\u001b[0m\u001b[1;33m)\u001b[0m\u001b[1;33m\u001b[0m\u001b[1;33m\u001b[0m\u001b[0m\n\u001b[0;32m     77\u001b[0m         \u001b[1;32melse\u001b[0m\u001b[1;33m:\u001b[0m\u001b[1;33m\u001b[0m\u001b[1;33m\u001b[0m\u001b[0m\n\u001b[1;32m---> 78\u001b[1;33m             \u001b[1;32mreturn\u001b[0m \u001b[0mnot_implement_for_func\u001b[0m\u001b[1;33m(\u001b[0m\u001b[1;33m*\u001b[0m\u001b[0margs\u001b[0m\u001b[1;33m,\u001b[0m \u001b[1;33m**\u001b[0m\u001b[0mkwargs\u001b[0m\u001b[1;33m)\u001b[0m\u001b[1;33m\u001b[0m\u001b[1;33m\u001b[0m\u001b[0m\n\u001b[0m\u001b[0;32m     79\u001b[0m \u001b[1;33m\u001b[0m\u001b[0m\n\u001b[0;32m     80\u001b[0m     \u001b[1;32mreturn\u001b[0m \u001b[0m_not_implemented_for\u001b[0m\u001b[1;33m\u001b[0m\u001b[1;33m\u001b[0m\u001b[0m\n",
      "\u001b[1;32m<decorator-gen-506>\u001b[0m in \u001b[0;36mrich_club_coefficient\u001b[1;34m(G, normalized, Q, seed)\u001b[0m\n",
      "\u001b[1;32m~\\Anaconda3\\lib\\site-packages\\networkx\\utils\\decorators.py\u001b[0m in \u001b[0;36m_not_implemented_for\u001b[1;34m(not_implement_for_func, *args, **kwargs)\u001b[0m\n\u001b[0;32m     76\u001b[0m             \u001b[1;32mraise\u001b[0m \u001b[0mnx\u001b[0m\u001b[1;33m.\u001b[0m\u001b[0mNetworkXNotImplemented\u001b[0m\u001b[1;33m(\u001b[0m\u001b[0mmsg\u001b[0m\u001b[1;33m)\u001b[0m\u001b[1;33m\u001b[0m\u001b[1;33m\u001b[0m\u001b[0m\n\u001b[0;32m     77\u001b[0m         \u001b[1;32melse\u001b[0m\u001b[1;33m:\u001b[0m\u001b[1;33m\u001b[0m\u001b[1;33m\u001b[0m\u001b[0m\n\u001b[1;32m---> 78\u001b[1;33m             \u001b[1;32mreturn\u001b[0m \u001b[0mnot_implement_for_func\u001b[0m\u001b[1;33m(\u001b[0m\u001b[1;33m*\u001b[0m\u001b[0margs\u001b[0m\u001b[1;33m,\u001b[0m \u001b[1;33m**\u001b[0m\u001b[0mkwargs\u001b[0m\u001b[1;33m)\u001b[0m\u001b[1;33m\u001b[0m\u001b[1;33m\u001b[0m\u001b[0m\n\u001b[0m\u001b[0;32m     79\u001b[0m \u001b[1;33m\u001b[0m\u001b[0m\n\u001b[0;32m     80\u001b[0m     \u001b[1;32mreturn\u001b[0m \u001b[0m_not_implemented_for\u001b[0m\u001b[1;33m\u001b[0m\u001b[1;33m\u001b[0m\u001b[0m\n",
      "\u001b[1;32m~\\Anaconda3\\lib\\site-packages\\networkx\\algorithms\\richclub.py\u001b[0m in \u001b[0;36mrich_club_coefficient\u001b[1;34m(G, normalized, Q, seed)\u001b[0m\n\u001b[0;32m     81\u001b[0m         \u001b[0mnx\u001b[0m\u001b[1;33m.\u001b[0m\u001b[0mdouble_edge_swap\u001b[0m\u001b[1;33m(\u001b[0m\u001b[0mR\u001b[0m\u001b[1;33m,\u001b[0m \u001b[0mQ\u001b[0m \u001b[1;33m*\u001b[0m \u001b[0mE\u001b[0m\u001b[1;33m,\u001b[0m \u001b[0mmax_tries\u001b[0m\u001b[1;33m=\u001b[0m\u001b[0mQ\u001b[0m \u001b[1;33m*\u001b[0m \u001b[0mE\u001b[0m \u001b[1;33m*\u001b[0m \u001b[1;36m10\u001b[0m\u001b[1;33m,\u001b[0m \u001b[0mseed\u001b[0m\u001b[1;33m=\u001b[0m\u001b[0mseed\u001b[0m\u001b[1;33m)\u001b[0m\u001b[1;33m\u001b[0m\u001b[1;33m\u001b[0m\u001b[0m\n\u001b[0;32m     82\u001b[0m         \u001b[0mrcran\u001b[0m \u001b[1;33m=\u001b[0m \u001b[0m_compute_rc\u001b[0m\u001b[1;33m(\u001b[0m\u001b[0mR\u001b[0m\u001b[1;33m)\u001b[0m\u001b[1;33m\u001b[0m\u001b[1;33m\u001b[0m\u001b[0m\n\u001b[1;32m---> 83\u001b[1;33m         \u001b[0mrc\u001b[0m \u001b[1;33m=\u001b[0m \u001b[1;33m{\u001b[0m\u001b[0mk\u001b[0m\u001b[1;33m:\u001b[0m \u001b[0mv\u001b[0m \u001b[1;33m/\u001b[0m \u001b[0mrcran\u001b[0m\u001b[1;33m[\u001b[0m\u001b[0mk\u001b[0m\u001b[1;33m]\u001b[0m \u001b[1;32mfor\u001b[0m \u001b[0mk\u001b[0m\u001b[1;33m,\u001b[0m \u001b[0mv\u001b[0m \u001b[1;32min\u001b[0m \u001b[0mrc\u001b[0m\u001b[1;33m.\u001b[0m\u001b[0mitems\u001b[0m\u001b[1;33m(\u001b[0m\u001b[1;33m)\u001b[0m\u001b[1;33m}\u001b[0m\u001b[1;33m\u001b[0m\u001b[1;33m\u001b[0m\u001b[0m\n\u001b[0m\u001b[0;32m     84\u001b[0m     \u001b[1;32mreturn\u001b[0m \u001b[0mrc\u001b[0m\u001b[1;33m\u001b[0m\u001b[1;33m\u001b[0m\u001b[0m\n\u001b[0;32m     85\u001b[0m \u001b[1;33m\u001b[0m\u001b[0m\n",
      "\u001b[1;32m~\\Anaconda3\\lib\\site-packages\\networkx\\algorithms\\richclub.py\u001b[0m in \u001b[0;36m<dictcomp>\u001b[1;34m(.0)\u001b[0m\n\u001b[0;32m     81\u001b[0m         \u001b[0mnx\u001b[0m\u001b[1;33m.\u001b[0m\u001b[0mdouble_edge_swap\u001b[0m\u001b[1;33m(\u001b[0m\u001b[0mR\u001b[0m\u001b[1;33m,\u001b[0m \u001b[0mQ\u001b[0m \u001b[1;33m*\u001b[0m \u001b[0mE\u001b[0m\u001b[1;33m,\u001b[0m \u001b[0mmax_tries\u001b[0m\u001b[1;33m=\u001b[0m\u001b[0mQ\u001b[0m \u001b[1;33m*\u001b[0m \u001b[0mE\u001b[0m \u001b[1;33m*\u001b[0m \u001b[1;36m10\u001b[0m\u001b[1;33m,\u001b[0m \u001b[0mseed\u001b[0m\u001b[1;33m=\u001b[0m\u001b[0mseed\u001b[0m\u001b[1;33m)\u001b[0m\u001b[1;33m\u001b[0m\u001b[1;33m\u001b[0m\u001b[0m\n\u001b[0;32m     82\u001b[0m         \u001b[0mrcran\u001b[0m \u001b[1;33m=\u001b[0m \u001b[0m_compute_rc\u001b[0m\u001b[1;33m(\u001b[0m\u001b[0mR\u001b[0m\u001b[1;33m)\u001b[0m\u001b[1;33m\u001b[0m\u001b[1;33m\u001b[0m\u001b[0m\n\u001b[1;32m---> 83\u001b[1;33m         \u001b[0mrc\u001b[0m \u001b[1;33m=\u001b[0m \u001b[1;33m{\u001b[0m\u001b[0mk\u001b[0m\u001b[1;33m:\u001b[0m \u001b[0mv\u001b[0m \u001b[1;33m/\u001b[0m \u001b[0mrcran\u001b[0m\u001b[1;33m[\u001b[0m\u001b[0mk\u001b[0m\u001b[1;33m]\u001b[0m \u001b[1;32mfor\u001b[0m \u001b[0mk\u001b[0m\u001b[1;33m,\u001b[0m \u001b[0mv\u001b[0m \u001b[1;32min\u001b[0m \u001b[0mrc\u001b[0m\u001b[1;33m.\u001b[0m\u001b[0mitems\u001b[0m\u001b[1;33m(\u001b[0m\u001b[1;33m)\u001b[0m\u001b[1;33m}\u001b[0m\u001b[1;33m\u001b[0m\u001b[1;33m\u001b[0m\u001b[0m\n\u001b[0m\u001b[0;32m     84\u001b[0m     \u001b[1;32mreturn\u001b[0m \u001b[0mrc\u001b[0m\u001b[1;33m\u001b[0m\u001b[1;33m\u001b[0m\u001b[0m\n\u001b[0;32m     85\u001b[0m \u001b[1;33m\u001b[0m\u001b[0m\n",
      "\u001b[1;31mZeroDivisionError\u001b[0m: float division by zero"
     ]
    }
   ],
   "source": [
    "rich_club_coefficient = []\n",
    "for i in G:\n",
    "    rich_club_coefficient.append(nx.rich_club_coefficient(i))\n",
    "\n",
    "df['rich_club_coefficient'] = rich_club_coefficient\n",
    "sns.barplot(data = df, x = 'graph', y = 'rich_club_coefficient')"
   ]
  },
  {
   "cell_type": "markdown",
   "metadata": {},
   "source": [
    "# Small-World Coefficient (sigma)\n",
    "## WARNING: TAKES AGES TO RUN, DO NOT RUN THIS AGAIN!!\n",
    "### Apparently this is a poor measure as it is heavily dependant on network size."
   ]
  },
  {
   "cell_type": "code",
   "execution_count": 326,
   "metadata": {},
   "outputs": [
    {
     "data": {
      "text/plain": [
       "<AxesSubplot:xlabel='graph', ylabel='sigma'>"
      ]
     },
     "execution_count": 326,
     "metadata": {},
     "output_type": "execute_result"
    },
    {
     "data": {
      "image/png": "[encoded data removed]",
      "text/plain": [
       "<Figure size 432x288 with 1 Axes>"
      ]
     },
     "metadata": {
      "needs_background": "light"
     },
     "output_type": "display_data"
    }
   ],
   "source": [
    "#sigma = []\n",
    "#for i in G_giant:\n",
    "#    sigma.append(nx.sigma(i))\n",
    "#\n",
    "#df['sigma'] = sigma\n",
    "#sns.barplot(data = df, x = 'graph', y = 'sigma')"
   ]
  },
  {
   "cell_type": "raw",
   "metadata": {},
   "source": [
    "0    3.165904\n",
    "1    2.858795\n",
    "2    7.544957\n",
    "3    8.228770\n",
    "4    2.122411"
   ]
  },
  {
   "cell_type": "markdown",
   "metadata": {},
   "source": [
    "# Small-World Coefficient (omega)\n",
    "## WARNING: TAKES AGES TO RUN, DO NOT RUN THIS AGAIN!!"
   ]
  },
  {
   "cell_type": "code",
   "execution_count": 328,
   "metadata": {},
   "outputs": [
    {
     "data": {
      "text/plain": [
       "<AxesSubplot:xlabel='graph', ylabel='omega'>"
      ]
     },
     "execution_count": 328,
     "metadata": {},
     "output_type": "execute_result"
    },
    {
     "data": {
      "image/png": "[encoded data removed]",
      "text/plain": [
       "<Figure size 432x288 with 1 Axes>"
      ]
     },
     "metadata": {
      "needs_background": "light"
     },
     "output_type": "display_data"
    }
   ],
   "source": [
    "#omega = []\n",
    "#for i in G_giant:\n",
    "#    omega.append(nx.omega(i))\n",
    "#\n",
    "#df['omega'] = omega\n",
    "#sns.barplot(data = df, x = 'graph', y = 'omega')"
   ]
  },
  {
   "cell_type": "raw",
   "metadata": {},
   "source": [
    "0   -0.168258\n",
    "1   -0.482243\n",
    "2   -0.772341\n",
    "3   -0.573583\n",
    "4    0.015632"
   ]
  },
  {
   "cell_type": "markdown",
   "metadata": {},
   "source": [
    "# Degree distribution "
   ]
  },
  {
   "cell_type": "code",
   "execution_count": 17,
   "metadata": {},
   "outputs": [
    {
     "data": {
      "image/png": "[encoded data removed]",
      "text/plain": [
       "<Figure size 432x288 with 1 Axes>"
      ]
     },
     "metadata": {
      "needs_background": "light"
     },
     "output_type": "display_data"
    },
    {
     "data": {
      "image/png": "[encoded data removed]",
      "text/plain": [
       "<Figure size 432x288 with 1 Axes>"
      ]
     },
     "metadata": {
      "needs_background": "light"
     },
     "output_type": "display_data"
    },
    {
     "data": {
      "image/png": "[encoded data removed]",
      "text/plain": [
       "<Figure size 432x288 with 1 Axes>"
      ]
     },
     "metadata": {
      "needs_background": "light"
     },
     "output_type": "display_data"
    },
    {
     "data": {
      "image/png": "[encoded data removed]",
      "text/plain": [
       "<Figure size 432x288 with 1 Axes>"
      ]
     },
     "metadata": {
      "needs_background": "light"
     },
     "output_type": "display_data"
    },
    {
     "data": {
      "image/png": "[encoded data removed]",
      "text/plain": [
       "<Figure size 432x288 with 1 Axes>"
      ]
     },
     "metadata": {
      "needs_background": "light"
     },
     "output_type": "display_data"
    }
   ],
   "source": [
    "degree_distribution = []\n",
    "for i in G:\n",
    "    degree_distribution.append(nx.degree_histogram(i))\n",
    "\n",
    "df['degree_distribution'] = degree_distribution\n",
    "\n",
    "for i in df['degree_distribution']:\n",
    "    plt.figure()\n",
    "    plt.plot(i)"
   ]
  },
  {
   "cell_type": "markdown",
   "metadata": {},
   "source": [
    "# Node Attributes"
   ]
  },
  {
   "cell_type": "code",
   "execution_count": 295,
   "metadata": {},
   "outputs": [],
   "source": [
    "q1 = pd.read_csv(\"../data/raw/PIRA Gill CSV/CSV/60_PERIOD1_ATTT.csv\").rename(columns = {'Unnamed: 0':'node'})\n",
    "q2 = pd.read_csv(\"../data/raw/PIRA Gill CSV/CSV/60_PERIOD2_ATT.csv\").rename(columns = {'Unnamed: 0':'node'})\n",
    "q3 = pd.read_csv(\"../data/raw/PIRA Gill CSV/CSV/60_PERIOD3_ATT.csv\").rename(columns = {'Unnamed: 0':'node'})\n",
    "q4_5 = pd.read_csv(\"../data/raw/PIRA Gill CSV/CSV/60_PERIOD4_5_ATT.csv\").rename(columns = {'Unnamed: 0':'node'})\n",
    "q6 = pd.read_csv(\"../data/raw/PIRA Gill CSV/CSV/60_PERIOD6_ATT.csv\").rename(columns = {'Unnamed: 0':'node'})"
   ]
  },
  {
   "cell_type": "code",
   "execution_count": 296,
   "metadata": {},
   "outputs": [],
   "source": [
    "atts = [q1, q2, q3, q4_5, q6]"
   ]
  },
  {
   "cell_type": "code",
   "execution_count": 297,
   "metadata": {},
   "outputs": [],
   "source": [
    "def drop_prefix(self, prefix):\n",
    "    self.columns = self.columns.str.lstrip(prefix)\n",
    "    return self\n",
    "\n",
    "pd.core.frame.DataFrame.drop_prefix = drop_prefix\n",
    "\n",
    "for index, df in enumerate(atts):\n",
    "    if index + 1 == 4:\n",
    "        df.drop_prefix('Period4-5')\n",
    "    elif index + 1 == 5:\n",
    "        df.drop_prefix('Period6')\n",
    "    else:\n",
    "        df.drop_prefix('Period' + str(index + 1))"
   ]
  },
  {
   "cell_type": "code",
   "execution_count": 298,
   "metadata": {},
   "outputs": [],
   "source": [
    "for period, value in enumerate(atts):\n",
    "    atts[period]['period'] = '4_5' if period == 3 else '6' if period == 4 else str(period + 1)"
   ]
  },
  {
   "cell_type": "code",
   "execution_count": 299,
   "metadata": {},
   "outputs": [],
   "source": [
    "from functools import reduce\n",
    "node_attributes_from_file = reduce(lambda left, right: pd.merge(left, right, how='outer'), atts)"
   ]
  },
  {
   "cell_type": "code",
   "execution_count": 300,
   "metadata": {},
   "outputs": [],
   "source": [
    "node_attributes = pd.DataFrame()\n",
    "\n",
    "for period, graph in enumerate(G):\n",
    "    new_attributes = pd.DataFrame()\n",
    "    \n",
    "    new_attributes['node'] = list(nx.nodes(graph))\n",
    "    new_attributes['period'] = '4_5' if period == 3 else '6' if period == 4 else str(period + 1)\n",
    "    new_attributes['degree'] = [j for i, j in list(nx.degree(graph))]\n",
    "    new_attributes['degree_centrality'] = [j for i, j in list(nx.degree_centrality(graph))]\n",
    "    new_attributes['eigenvector_centrality'] = [j for i, j in list(nx.eigenvector_centrality(graph))]\n",
    "    new_attributes['closeness_centrality'] = [j for i, j in list(nx.closeness_centrality(graph))]\n",
    "    new_attributes['betweenness_centrality'] = [j for i, j in list(nx.betweenness_centrality(graph))]\n",
    "    new_attributes['communicability_betweenness_centrality'] = [j for i, j in list(nx.communicability_betweenness_centrality(graph))]\n",
    "    new_attributes['single_source_shortest_path'] = [j for i, j in list(nx.single_source_shortest_path(graph))]\n",
    "    new_attributes['neighbours'] = [list(nx.neighbors(graph, i)) for i in new_attributes['node']]\n",
    "    \n",
    "    node_attributes = node_attributes.append(new_attributes, ignore_index=True, sort=False)"
   ]
  },
  {
   "cell_type": "code",
   "execution_count": 301,
   "metadata": {},
   "outputs": [],
   "source": [
    "node_attributes = pd.merge(node_attributes_from_file, node_attributes, how = 'inner', on = ['node', 'period'])"
   ]
  },
  {
   "cell_type": "markdown",
   "metadata": {},
   "source": [
    "# Data Set ready for input into predictive model "
   ]
  },
  {
   "cell_type": "code",
   "execution_count": 302,
   "metadata": {},
   "outputs": [
    {
     "data": {
      "text/html": [
       "<div>\n",
       "<style scoped>\n",
       "    .dataframe tbody tr th:only-of-type {\n",
       "        vertical-align: middle;\n",
       "    }\n",
       "\n",
       "    .dataframe tbody tr th {\n",
       "        vertical-align: top;\n",
       "    }\n",
       "\n",
       "    .dataframe thead th {\n",
       "        text-align: right;\n",
       "    }\n",
       "</style>\n",
       "<table border=\"1\" class=\"dataframe\">\n",
       "  <thead>\n",
       "    <tr style=\"text-align: right;\">\n",
       "      <th></th>\n",
       "      <th>node</th>\n",
       "      <th>Gender</th>\n",
       "      <th>University</th>\n",
       "      <th>Marital Status</th>\n",
       "      <th>Age at Recruitment</th>\n",
       "      <th>Antrim Brigade</th>\n",
       "      <th>Derry Brigade</th>\n",
       "      <th>Armagh Brigade</th>\n",
       "      <th>Down Brigade</th>\n",
       "      <th>Tyrone Brigade</th>\n",
       "      <th>...</th>\n",
       "      <th>Senior</th>\n",
       "      <th>Gun</th>\n",
       "      <th>IED_C</th>\n",
       "      <th>IED_P</th>\n",
       "      <th>ForOp</th>\n",
       "      <th>Rob</th>\n",
       "      <th>period</th>\n",
       "      <th>Fermanagh Brigade</th>\n",
       "      <th>degree</th>\n",
       "      <th>neighbours</th>\n",
       "    </tr>\n",
       "  </thead>\n",
       "  <tbody>\n",
       "    <tr>\n",
       "      <th>0</th>\n",
       "      <td>ZF1013</td>\n",
       "      <td>0</td>\n",
       "      <td>0</td>\n",
       "      <td>1</td>\n",
       "      <td>30</td>\n",
       "      <td>0</td>\n",
       "      <td>0</td>\n",
       "      <td>0</td>\n",
       "      <td>0</td>\n",
       "      <td>0</td>\n",
       "      <td>...</td>\n",
       "      <td>0</td>\n",
       "      <td>0</td>\n",
       "      <td>0</td>\n",
       "      <td>0</td>\n",
       "      <td>0</td>\n",
       "      <td>1</td>\n",
       "      <td>1</td>\n",
       "      <td>NaN</td>\n",
       "      <td>4</td>\n",
       "      <td>[ZF1135, ZF119, ZF1304, ZF629]</td>\n",
       "    </tr>\n",
       "    <tr>\n",
       "      <th>1</th>\n",
       "      <td>ZF1014</td>\n",
       "      <td>0</td>\n",
       "      <td>0</td>\n",
       "      <td>1</td>\n",
       "      <td>20</td>\n",
       "      <td>1</td>\n",
       "      <td>0</td>\n",
       "      <td>0</td>\n",
       "      <td>0</td>\n",
       "      <td>0</td>\n",
       "      <td>...</td>\n",
       "      <td>0</td>\n",
       "      <td>0</td>\n",
       "      <td>0</td>\n",
       "      <td>1</td>\n",
       "      <td>0</td>\n",
       "      <td>0</td>\n",
       "      <td>1</td>\n",
       "      <td>NaN</td>\n",
       "      <td>5</td>\n",
       "      <td>[ZF260, ZF459, ZF659, ZF769, ZF952]</td>\n",
       "    </tr>\n",
       "    <tr>\n",
       "      <th>2</th>\n",
       "      <td>ZF1015</td>\n",
       "      <td>1</td>\n",
       "      <td>0</td>\n",
       "      <td>99999</td>\n",
       "      <td>99999</td>\n",
       "      <td>1</td>\n",
       "      <td>0</td>\n",
       "      <td>0</td>\n",
       "      <td>0</td>\n",
       "      <td>0</td>\n",
       "      <td>...</td>\n",
       "      <td>0</td>\n",
       "      <td>0</td>\n",
       "      <td>0</td>\n",
       "      <td>0</td>\n",
       "      <td>0</td>\n",
       "      <td>0</td>\n",
       "      <td>1</td>\n",
       "      <td>NaN</td>\n",
       "      <td>2</td>\n",
       "      <td>[ZF1177, ZF237]</td>\n",
       "    </tr>\n",
       "    <tr>\n",
       "      <th>3</th>\n",
       "      <td>ZF1020</td>\n",
       "      <td>0</td>\n",
       "      <td>0</td>\n",
       "      <td>0</td>\n",
       "      <td>31</td>\n",
       "      <td>0</td>\n",
       "      <td>1</td>\n",
       "      <td>0</td>\n",
       "      <td>0</td>\n",
       "      <td>0</td>\n",
       "      <td>...</td>\n",
       "      <td>0</td>\n",
       "      <td>0</td>\n",
       "      <td>0</td>\n",
       "      <td>0</td>\n",
       "      <td>0</td>\n",
       "      <td>0</td>\n",
       "      <td>1</td>\n",
       "      <td>NaN</td>\n",
       "      <td>2</td>\n",
       "      <td>[ZF197, ZF721]</td>\n",
       "    </tr>\n",
       "    <tr>\n",
       "      <th>4</th>\n",
       "      <td>ZF1025</td>\n",
       "      <td>0</td>\n",
       "      <td>0</td>\n",
       "      <td>99999</td>\n",
       "      <td>19</td>\n",
       "      <td>0</td>\n",
       "      <td>1</td>\n",
       "      <td>0</td>\n",
       "      <td>0</td>\n",
       "      <td>0</td>\n",
       "      <td>...</td>\n",
       "      <td>0</td>\n",
       "      <td>0</td>\n",
       "      <td>0</td>\n",
       "      <td>1</td>\n",
       "      <td>0</td>\n",
       "      <td>0</td>\n",
       "      <td>1</td>\n",
       "      <td>NaN</td>\n",
       "      <td>1</td>\n",
       "      <td>[ZF535]</td>\n",
       "    </tr>\n",
       "    <tr>\n",
       "      <th>...</th>\n",
       "      <td>...</td>\n",
       "      <td>...</td>\n",
       "      <td>...</td>\n",
       "      <td>...</td>\n",
       "      <td>...</td>\n",
       "      <td>...</td>\n",
       "      <td>...</td>\n",
       "      <td>...</td>\n",
       "      <td>...</td>\n",
       "      <td>...</td>\n",
       "      <td>...</td>\n",
       "      <td>...</td>\n",
       "      <td>...</td>\n",
       "      <td>...</td>\n",
       "      <td>...</td>\n",
       "      <td>...</td>\n",
       "      <td>...</td>\n",
       "      <td>...</td>\n",
       "      <td>...</td>\n",
       "      <td>...</td>\n",
       "      <td>...</td>\n",
       "    </tr>\n",
       "    <tr>\n",
       "      <th>1565</th>\n",
       "      <td>ZF898</td>\n",
       "      <td>0</td>\n",
       "      <td>0</td>\n",
       "      <td>99999</td>\n",
       "      <td>25</td>\n",
       "      <td>0</td>\n",
       "      <td>0</td>\n",
       "      <td>0</td>\n",
       "      <td>0</td>\n",
       "      <td>0</td>\n",
       "      <td>...</td>\n",
       "      <td>0</td>\n",
       "      <td>1</td>\n",
       "      <td>0</td>\n",
       "      <td>0</td>\n",
       "      <td>0</td>\n",
       "      <td>0</td>\n",
       "      <td>6</td>\n",
       "      <td>0.0</td>\n",
       "      <td>1</td>\n",
       "      <td>[ZF948]</td>\n",
       "    </tr>\n",
       "    <tr>\n",
       "      <th>1566</th>\n",
       "      <td>ZF945</td>\n",
       "      <td>1</td>\n",
       "      <td>0</td>\n",
       "      <td>1</td>\n",
       "      <td>40</td>\n",
       "      <td>0</td>\n",
       "      <td>0</td>\n",
       "      <td>0</td>\n",
       "      <td>0</td>\n",
       "      <td>0</td>\n",
       "      <td>...</td>\n",
       "      <td>0</td>\n",
       "      <td>0</td>\n",
       "      <td>0</td>\n",
       "      <td>0</td>\n",
       "      <td>0</td>\n",
       "      <td>0</td>\n",
       "      <td>6</td>\n",
       "      <td>0.0</td>\n",
       "      <td>1</td>\n",
       "      <td>[ZF111]</td>\n",
       "    </tr>\n",
       "    <tr>\n",
       "      <th>1567</th>\n",
       "      <td>ZF948</td>\n",
       "      <td>0</td>\n",
       "      <td>0</td>\n",
       "      <td>1</td>\n",
       "      <td>25</td>\n",
       "      <td>0</td>\n",
       "      <td>0</td>\n",
       "      <td>0</td>\n",
       "      <td>0</td>\n",
       "      <td>0</td>\n",
       "      <td>...</td>\n",
       "      <td>0</td>\n",
       "      <td>0</td>\n",
       "      <td>0</td>\n",
       "      <td>1</td>\n",
       "      <td>0</td>\n",
       "      <td>0</td>\n",
       "      <td>6</td>\n",
       "      <td>0.0</td>\n",
       "      <td>4</td>\n",
       "      <td>[ZF1283, ZF234, ZF294, ZF898]</td>\n",
       "    </tr>\n",
       "    <tr>\n",
       "      <th>1568</th>\n",
       "      <td>ZF97</td>\n",
       "      <td>0</td>\n",
       "      <td>0</td>\n",
       "      <td>99999</td>\n",
       "      <td>26</td>\n",
       "      <td>0</td>\n",
       "      <td>0</td>\n",
       "      <td>0</td>\n",
       "      <td>0</td>\n",
       "      <td>0</td>\n",
       "      <td>...</td>\n",
       "      <td>0</td>\n",
       "      <td>0</td>\n",
       "      <td>0</td>\n",
       "      <td>1</td>\n",
       "      <td>1</td>\n",
       "      <td>0</td>\n",
       "      <td>6</td>\n",
       "      <td>0.0</td>\n",
       "      <td>1</td>\n",
       "      <td>[ZF268]</td>\n",
       "    </tr>\n",
       "    <tr>\n",
       "      <th>1569</th>\n",
       "      <td>ZFM264</td>\n",
       "      <td>0</td>\n",
       "      <td>0</td>\n",
       "      <td>1</td>\n",
       "      <td>20</td>\n",
       "      <td>0</td>\n",
       "      <td>1</td>\n",
       "      <td>0</td>\n",
       "      <td>0</td>\n",
       "      <td>0</td>\n",
       "      <td>...</td>\n",
       "      <td>0</td>\n",
       "      <td>0</td>\n",
       "      <td>0</td>\n",
       "      <td>0</td>\n",
       "      <td>0</td>\n",
       "      <td>0</td>\n",
       "      <td>6</td>\n",
       "      <td>0.0</td>\n",
       "      <td>4</td>\n",
       "      <td>[ZF1101, ZF411, ZF481, ZF801]</td>\n",
       "    </tr>\n",
       "  </tbody>\n",
       "</table>\n",
       "<p>1570 rows × 23 columns</p>\n",
       "</div>"
      ],
      "text/plain": [
       "        node  Gender  University  Marital Status  Age at Recruitment  \\\n",
       "0     ZF1013       0           0               1                  30   \n",
       "1     ZF1014       0           0               1                  20   \n",
       "2     ZF1015       1           0           99999               99999   \n",
       "3     ZF1020       0           0               0                  31   \n",
       "4     ZF1025       0           0           99999                  19   \n",
       "...      ...     ...         ...             ...                 ...   \n",
       "1565   ZF898       0           0           99999                  25   \n",
       "1566   ZF945       1           0               1                  40   \n",
       "1567   ZF948       0           0               1                  25   \n",
       "1568    ZF97       0           0           99999                  26   \n",
       "1569  ZFM264       0           0               1                  20   \n",
       "\n",
       "      Antrim Brigade  Derry Brigade  Armagh Brigade  Down Brigade  \\\n",
       "0                  0              0               0             0   \n",
       "1                  1              0               0             0   \n",
       "2                  1              0               0             0   \n",
       "3                  0              1               0             0   \n",
       "4                  0              1               0             0   \n",
       "...              ...            ...             ...           ...   \n",
       "1565               0              0               0             0   \n",
       "1566               0              0               0             0   \n",
       "1567               0              0               0             0   \n",
       "1568               0              0               0             0   \n",
       "1569               0              1               0             0   \n",
       "\n",
       "      Tyrone Brigade  ...  Senior  Gun  IED_C  IED_P  ForOp  Rob  period  \\\n",
       "0                  0  ...       0    0      0      0      0    1       1   \n",
       "1                  0  ...       0    0      0      1      0    0       1   \n",
       "2                  0  ...       0    0      0      0      0    0       1   \n",
       "3                  0  ...       0    0      0      0      0    0       1   \n",
       "4                  0  ...       0    0      0      1      0    0       1   \n",
       "...              ...  ...     ...  ...    ...    ...    ...  ...     ...   \n",
       "1565               0  ...       0    1      0      0      0    0       6   \n",
       "1566               0  ...       0    0      0      0      0    0       6   \n",
       "1567               0  ...       0    0      0      1      0    0       6   \n",
       "1568               0  ...       0    0      0      1      1    0       6   \n",
       "1569               0  ...       0    0      0      0      0    0       6   \n",
       "\n",
       "      Fermanagh Brigade  degree                           neighbours  \n",
       "0                   NaN       4       [ZF1135, ZF119, ZF1304, ZF629]  \n",
       "1                   NaN       5  [ZF260, ZF459, ZF659, ZF769, ZF952]  \n",
       "2                   NaN       2                      [ZF1177, ZF237]  \n",
       "3                   NaN       2                       [ZF197, ZF721]  \n",
       "4                   NaN       1                              [ZF535]  \n",
       "...                 ...     ...                                  ...  \n",
       "1565                0.0       1                              [ZF948]  \n",
       "1566                0.0       1                              [ZF111]  \n",
       "1567                0.0       4        [ZF1283, ZF234, ZF294, ZF898]  \n",
       "1568                0.0       1                              [ZF268]  \n",
       "1569                0.0       4        [ZF1101, ZF411, ZF481, ZF801]  \n",
       "\n",
       "[1570 rows x 23 columns]"
      ]
     },
     "execution_count": 302,
     "metadata": {},
     "output_type": "execute_result"
    }
   ],
   "source": [
    "node_attributes"
   ]
  },
  {
   "cell_type": "code",
   "execution_count": null,
   "metadata": {},
   "outputs": [],
   "source": []
  }
 ],
 "metadata": {
  "coursera": {
   "course_slug": "python-social-network-analysis",
   "graded_item_id": "4XCse",
   "launcher_item_id": "utvmz",
   "part_id": "cZ7Jg"
  },
  "kernelspec": {
   "display_name": "Python 3",
   "language": "python",
   "name": "python3"
  },
  "language_info": {
   "codemirror_mode": {
    "name": "ipython",
    "version": 3
   },
   "file_extension": ".py",
   "mimetype": "text/x-python",
   "name": "python",
   "nbconvert_exporter": "python",
   "pygments_lexer": "ipython3",
   "version": "3.7.9"
  }
 },
 "nbformat": 4,
 "nbformat_minor": 4
}
